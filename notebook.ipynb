{
  "nbformat": 4,
  "nbformat_minor": 0,
  "metadata": {
    "colab": {
      "provenance": [],
      "authorship_tag": "ABX9TyNNWiYpokukZst2XPS67pYE",
      "include_colab_link": true
    },
    "kernelspec": {
      "name": "python3",
      "display_name": "Python 3"
    },
    "language_info": {
      "name": "python"
    }
  },
  "cells": [
    {
      "cell_type": "markdown",
      "metadata": {
        "id": "view-in-github",
        "colab_type": "text"
      },
      "source": [
        "<a href=\"https://colab.research.google.com/github/JacobAshoo/NNFS/blob/main/notebook.ipynb\" target=\"_parent\"><img src=\"https://colab.research.google.com/assets/colab-badge.svg\" alt=\"Open In Colab\"/></a>"
      ]
    },
    {
      "cell_type": "code",
      "source": [
        "import numpy as np\n",
        "import torch"
      ],
      "metadata": {
        "id": "T-Q862boZl9J"
      },
      "execution_count": null,
      "outputs": []
    },
    {
      "cell_type": "code",
      "execution_count": null,
      "metadata": {
        "id": "9SJZW5TCYXNV"
      },
      "outputs": [],
      "source": [
        "class Linear:\n",
        "    def __init__(self, input_size, output_size, device=None):\n",
        "        self.device = torch.device('cuda' if torch.cuda.is_available() else 'cpu')\n",
        "        self.input_size = input_size\n",
        "        self.output_size = output_size\n",
        "        self.w = torch.randn(output_size, input_size, device=self.device)\n",
        "        self.b = torch.zeros(output_size, device=self.device)\n",
        "\n",
        "    def __call__(self, x):\n",
        "        return torch.matmul(x, self.w.T) + self.b"
      ]
    },
    {
      "cell_type": "code",
      "source": [
        "class Relu:\n",
        "    def __init__(self):\n",
        "        pass\n",
        "\n",
        "    def __call__(self, x):\n",
        "        return torch.maximum(x, torch.tensor(0.0, device=x.device))\n",
        "\n",
        "class Softmax:\n",
        "    def __init__(self):\n",
        "        pass\n",
        "\n",
        "    def __call__(self, x):\n",
        "        exp_x = torch.exp(x - torch.max(x, dim=1, keepdim=True).values)\n",
        "        return exp_x / torch.sum(exp_x, dim=1, keepdim=True)"
      ],
      "metadata": {
        "id": "_Q0ry4SqY1lG"
      },
      "execution_count": null,
      "outputs": []
    },
    {
      "cell_type": "code",
      "source": [
        "class CrossEntropy:\n",
        "  def __init__(self):\n",
        "    pass\n",
        "\n",
        "  def __call__(self, ypred, y):\n",
        "    x = torch.clamp(ypred, min=1e-9)\n",
        "    return -torch.mean(torch.sum(y * torch.log(ypred), dim=1))"
      ],
      "metadata": {
        "id": "ATe5r3z4qHY5"
      },
      "execution_count": null,
      "outputs": []
    },
    {
      "cell_type": "code",
      "source": [
        "class FCNN:\n",
        "    def __init__(self, input_size, output_size):\n",
        "        self.l1 = Linear(input_size, 10)\n",
        "        print(f\"Using device: {self.l1.device}\")\n",
        "        self.relu1 = Relu()\n",
        "        self.l2 = Linear(10, output_size)\n",
        "        self.softmax = Softmax()\n",
        "\n",
        "    def forward(self, x):\n",
        "        z1 = self.l1(x)\n",
        "        a1 = self.relu1(z1)\n",
        "        z2 = self.l2(a1)\n",
        "        y = self.softmax(z2)\n",
        "        return y"
      ],
      "metadata": {
        "id": "_gN-0fQpaih4"
      },
      "execution_count": null,
      "outputs": []
    },
    {
      "cell_type": "code",
      "source": [
        "torch.manual_seed(42)\n",
        "device = torch.device('cuda' if torch.cuda.is_available() else 'cpu')\n",
        "\n",
        "nn = FCNN(10, 3)\n",
        "\n",
        "x = torch.randn(1, 10, device=device) * 0.01\n",
        "y = torch.tensor([[1,0,0]], device=device)\n",
        "loss_function = CrossEntropy();\n",
        "ypred = nn.forward(x)\n",
        "\n",
        "print(ypred)\n",
        "loss = loss_function(ypred, y)\n",
        "print(loss)\n",
        "##hello"
      ],
      "metadata": {
        "colab": {
          "base_uri": "https://localhost:8080/"
        },
        "id": "KZ28sDhHitJL",
        "outputId": "51c02c52-e94f-4709-e78e-d5fa18eafae0"
      },
      "execution_count": null,
      "outputs": [
        {
          "output_type": "stream",
          "name": "stdout",
          "text": [
            "Using device: cpu\n",
            "tensor([[0.3416, 0.3423, 0.3161]])\n",
            "tensor(1.0741)\n"
          ]
        }
      ]
    }
  ]
}